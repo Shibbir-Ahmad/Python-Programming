{
  "nbformat": 4,
  "nbformat_minor": 0,
  "metadata": {
    "colab": {
      "name": "Real Time Currency Converter.ipynb",
      "provenance": [],
      "collapsed_sections": []
    },
    "kernelspec": {
      "name": "python3",
      "display_name": "Python 3"
    },
    "language_info": {
      "name": "python"
    }
  },
  "cells": [
    {
      "cell_type": "markdown",
      "source": [
        "## **Real Time Currency Converter in Python**\n"
      ],
      "metadata": {
        "id": "uN7EMLVmc1VL"
      }
    },
    {
      "cell_type": "code",
      "source": [
        "!pip install forex_python"
      ],
      "metadata": {
        "id": "O7pmBFsYdlZg"
      },
      "execution_count": null,
      "outputs": []
    },
    {
      "cell_type": "code",
      "source": [
        "from forex_python.converter import CurrencyRates\n",
        "c = CurrencyRates()\n",
        "amount = int(input('Enter the input: '))\n",
        "from_currency = input('From Currency: ').upper()\n",
        "to_currency = input('To Currency: ').upper()\n",
        "print(from_currency, 'To', to_currency, amount)\n",
        "result = c.convert(from_currency, to_currency, amount)\n",
        "print(result)"
      ],
      "metadata": {
        "colab": {
          "base_uri": "https://localhost:8080/"
        },
        "id": "XMXS_w9fjNYv",
        "outputId": "4eab70fb-2026-4dbd-f1bf-b8fb20ddaaae"
      },
      "execution_count": 19,
      "outputs": [
        {
          "output_type": "stream",
          "name": "stdout",
          "text": [
            "Enter the input: 100\n",
            "From Currency: usd\n",
            "To Currency: inr\n",
            "USD To INR 100\n",
            "7650.664136622392\n"
          ]
        }
      ]
    },
    {
      "cell_type": "code",
      "source": [
        ""
      ],
      "metadata": {
        "id": "bfCz9Jzn9Sf8"
      },
      "execution_count": 13,
      "outputs": []
    }
  ]
}