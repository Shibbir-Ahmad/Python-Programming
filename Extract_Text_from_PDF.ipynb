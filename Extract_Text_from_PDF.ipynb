{
  "nbformat": 4,
  "nbformat_minor": 0,
  "metadata": {
    "colab": {
      "name": "Extract Text from PDF.ipynb",
      "provenance": [],
      "collapsed_sections": []
    },
    "kernelspec": {
      "name": "python3",
      "display_name": "Python 3"
    },
    "language_info": {
      "name": "python"
    }
  },
  "cells": [
    {
      "cell_type": "markdown",
      "source": [
        "## **Extract Text from PDF in Python**\n"
      ],
      "metadata": {
        "id": "uN7EMLVmc1VL"
      }
    },
    {
      "cell_type": "code",
      "source": [
        "from google.colab import files\n",
        "files.upload()"
      ],
      "metadata": {
        "id": "9TEHpXtFC4gf"
      },
      "execution_count": null,
      "outputs": []
    },
    {
      "cell_type": "code",
      "source": [
        "!pip install PyPDF2"
      ],
      "metadata": {
        "id": "bj6iHhtpAhtX"
      },
      "execution_count": null,
      "outputs": []
    },
    {
      "cell_type": "code",
      "source": [
        "import PyPDF2\n",
        "pdf = open('Bangladesh.pdf', 'rb')\n",
        "reader = PyPDF2.PdfFileReader(pdf)\n",
        "page = reader.getPage(0)\n",
        "print(page.extractText())"
      ],
      "metadata": {
        "id": "XMXS_w9fjNYv"
      },
      "execution_count": null,
      "outputs": []
    },
    {
      "cell_type": "code",
      "source": [
        ""
      ],
      "metadata": {
        "id": "bfCz9Jzn9Sf8"
      },
      "execution_count": null,
      "outputs": []
    }
  ]
}